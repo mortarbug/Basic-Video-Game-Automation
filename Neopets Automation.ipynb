{
 "cells": [
  {
   "cell_type": "markdown",
   "metadata": {},
   "source": [
    "# Neopets Automation\n",
    "Patrick Vo\n",
    "\n",
    "Program that automatically collects neopets freebies and whatnot"
   ]
  },
  {
   "cell_type": "code",
   "execution_count": 2,
   "metadata": {
    "collapsed": true
   },
   "outputs": [],
   "source": [
    "#Import the necessary libraries\n",
    "import pyautogui as pag\n",
    "pag.FAILSAFE = True\n",
    "pag.PAUSE = 0.10\n",
    "\n",
    "import pandas as pd\n",
    "import time\n",
    "import webbrowser"
   ]
  },
  {
   "cell_type": "markdown",
   "metadata": {},
   "source": [
    "## The Special Ones\n",
    "This section is comprised of Neopets dailies that require multiple clicks or other unusual instructions. Because of this, they can't be put into a single function."
   ]
  },
  {
   "cell_type": "code",
   "execution_count": 65,
   "metadata": {
    "collapsed": true
   },
   "outputs": [],
   "source": [
    "def wise_old_king():\n",
    "    webbrowser.open('http://www.neopets.com/medieval/wiseking.phtml')\n",
    "    time.sleep(4)\n",
    "    \n",
    "    # Clears out any events that might pop up on the page\n",
    "    pag.moveTo(1786,706)\n",
    "    pag.click()\n",
    "    time.sleep(2)\n",
    "    \n",
    "    #Move the cursor into position\n",
    "    pag.moveTo(778, 604)\n",
    "    pag.click()\n",
    "    \n",
    "    for i in range (0,7):\n",
    "        pag.typewrite(['down', 'down', 'down', 'tab'])\n",
    "    \n",
    "    pag.moveTo(1027,675)\n",
    "    pag.click()\n",
    "    pag.hotkey('ctrl', 'w')\n",
    "    \n",
    "    \n",
    "def grumpy_old_king():\n",
    "    webbrowser.open('http://www.neopets.com/medieval/grumpyking.phtml')\n",
    "    time.sleep(4)\n",
    "    pag.moveTo(1786,706)\n",
    "    pag.click()\n",
    "    time.sleep(2)\n",
    "    pag.moveTo(721, 664)\n",
    "    pag.click()\n",
    "    \n",
    "    for i in range (0,18):\n",
    "        pag.typewrite(['down', 'down', 'down', 'tab'])\n",
    "    \n",
    "    pag.moveTo(924,860)\n",
    "    pag.click()\n",
    "    pag.hotkey('ctrl', 'w')\n",
    "    \n",
    "def lost_tomb():\n",
    "    webbrowser.open('http://www.neopets.com/worlds/geraptiku/tomb.phtml')\n",
    "    time.sleep(4)\n",
    "    pag.moveTo(1786,706)\n",
    "    pag.click()\n",
    "    time.sleep(2)\n",
    "    pag.moveTo(848, 761)\n",
    "    pag.click()\n",
    "    time.sleep(4)\n",
    "    pag.moveTo(1009,716)\n",
    "    pag.click()\n",
    "    time.sleep(4)\n",
    "    pag.hotkey('ctrl', 'w')\n",
    "    \n",
    "def qasalan_expellibox():\n",
    "    def neopian_one_clicks():\n",
    "    webbrowser.open('http://ncmall.neopets.com/mall/shop.phtml?page=giveaway')\n",
    "    time.sleep(4)\n",
    "    pag.moveTo(1786,706)\n",
    "    pag.click()\n",
    "    time.sleep(2)\n",
    "    pag.moveTo(1127,846)\n",
    "    pag.click()\n",
    "    time.sleep(2)\n",
    "    pag.click()\n",
    "    pag.hotkey('ctrl', 'w')"
   ]
  },
  {
   "cell_type": "markdown",
   "metadata": {},
   "source": [
    "## The One-Clicks\n",
    "This section is made up of dailies that can activated by a single click. The script uses pandas to read in a CSV file, then passes in the position and URL of the page. The function proceeds through, clicking one-by-one. Note that some of the dailies, such as Coltzan's Shrine, can actually be done multiple times a day, following a cooldown period. These have 'time_delay' parameters and will be called after the cooldown period has elapsed."
   ]
  },
  {
   "cell_type": "code",
   "execution_count": 106,
   "metadata": {},
   "outputs": [],
   "source": [
    "def neopian_one_clicks(x_pos, y_pos, url):\n",
    "    webbrowser.open(url)\n",
    "    time.sleep(4)\n",
    "    \n",
    "    # Moves the cursor and clicks nowhere in particular. This gets rid of any unusual overlays\n",
    "    pag.moveTo(1786,706)\n",
    "    pag.click()\n",
    "    time.sleep(2)\n",
    "    \n",
    "    pag.moveTo(x_pos,y_pos)\n",
    "    pag.click()\n",
    "    time.sleep(3)\n",
    "    pag.hotkey('ctrl', 'w')\n",
    "    "
   ]
  },
  {
   "cell_type": "markdown",
   "metadata": {},
   "source": [
    "# The main function"
   ]
  },
  {
   "cell_type": "code",
   "execution_count": null,
   "metadata": {
    "collapsed": true
   },
   "outputs": [],
   "source": [
    "# The main function calls the odd clicks first, then loads in the actions csv. It passes the rows\n",
    "# of the actions csv into the neopian_one_clicks function\n",
    "def main():\n",
    "    wise_old_king()\n",
    "    grumpy_old_king()\n",
    "    qasalan_expellibox()\n",
    "    lost_tomb()\n",
    "    \n",
    "    # Read in the actions csv \n",
    "    one_clicks = pd.read_csv('one_clicks.csv')\n",
    "    one_clicks['timestamp'] = -1\n",
    "    \n",
    "    # For every row, pass in the thing\n",
    "    for i in range(0, len(one_clicks)):\n",
    "        \n",
    "        actions = neopian_one_clicks.iloc[i]\n",
    "        neopian_one_clicks(actions['X_position'], actions['Y_position'], actions['URL'])\n",
    "        \n",
    "        # If the Time_delay variable isn't negative 1, then change the timestamp variable\n",
    "        if actions['Time_Delay'] > 0:\n",
    "            neopian_one_clicks.iloc[i]['timestamp'] = time()\n",
    "    \n",
    "    # For all the actions that can be done multiple times a day, check every 15 minutes\n",
    "    #     to see if the timer has reset yet\n",
    "    repeatables = one_clicks[one_clicks['Time_Delay'] > 0]\n",
    "    while (True):\n",
    "        time.sleep(900)\n",
    "        for i in range (0, len(one_clicks)):\n",
    "            maybe =  one_clicks.iloc[i]\n",
    "            \n",
    "            # If the time difference in seconds is larger than the reset time in seconds\n",
    "            #    then do the daily again\n",
    "            if ((time() - maybe['timestamp']) > (maybe['Time_Delay'] * 3600)):\n",
    "                neopian_one_clicks(maybe['X_position'], maybe['Y_position'], maybe['URL'])\n",
    "                maybe['timestamp'] = time()\n",
    "                \n",
    "                "
   ]
  },
  {
   "cell_type": "code",
   "execution_count": 102,
   "metadata": {},
   "outputs": [
    {
     "data": {
      "text/plain": [
       "(956, 807)"
      ]
     },
     "execution_count": 102,
     "metadata": {},
     "output_type": "execute_result"
    }
   ],
   "source": []
  },
  {
   "cell_type": "code",
   "execution_count": null,
   "metadata": {
    "collapsed": true
   },
   "outputs": [],
   "source": []
  }
 ],
 "metadata": {
  "kernelspec": {
   "display_name": "Python 3",
   "language": "python",
   "name": "python3"
  },
  "language_info": {
   "codemirror_mode": {
    "name": "ipython",
    "version": 3
   },
   "file_extension": ".py",
   "mimetype": "text/x-python",
   "name": "python",
   "nbconvert_exporter": "python",
   "pygments_lexer": "ipython3",
   "version": "3.6.3"
  }
 },
 "nbformat": 4,
 "nbformat_minor": 2
}
