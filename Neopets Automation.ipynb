{
 "cells": [
  {
   "cell_type": "markdown",
   "metadata": {},
   "source": [
    "# Neopets Automation\n",
    "Patrick Vo\n",
    "\n",
    "Program that automatically collects neopets freebies and whatnot. I chose to use PyAutoGui because there is little to no chance that GUI automation like this will be detected. "
   ]
  },
  {
   "cell_type": "code",
   "execution_count": 110,
   "metadata": {
    "collapsed": true
   },
   "outputs": [],
   "source": [
    "#Import the necessary libraries. Set the pyautogui failsafe to be true\n",
    "import pyautogui as pag\n",
    "pag.FAILSAFE = True\n",
    "pag.PAUSE = 0.10\n",
    "\n",
    "import pandas as pd\n",
    "import time\n",
    "import webbrowser"
   ]
  },
  {
   "cell_type": "markdown",
   "metadata": {},
   "source": [
    "## The Special Ones\n",
    "This section is comprised of Neopets dailies that require multiple clicks or other unusual instructions. Because of this, they can't be put into a single function."
   ]
  },
  {
   "cell_type": "code",
   "execution_count": 149,
   "metadata": {},
   "outputs": [],
   "source": [
    "# Plays the Wise Old King game on Neopets. Uses tabs to navigate\n",
    "def wise_old_king():\n",
    "    webbrowser.open('http://www.neopets.com/medieval/wiseking.phtml')\n",
    "    time.sleep(4)\n",
    "    \n",
    "    # Clears out any events that might pop up on the page\n",
    "    pag.moveTo(1786,706)\n",
    "    pag.click()\n",
    "    time.sleep(2)\n",
    "    \n",
    "    #Move the cursor into position\n",
    "    pag.moveTo(778, 604)\n",
    "    pag.click()\n",
    "    \n",
    "    for i in range (0,7):\n",
    "        pag.typewrite(['down', 'down', 'down', 'tab'])\n",
    "    \n",
    "    pag.moveTo(1027,675)\n",
    "    pag.click()\n",
    "    time.sleep(2)\n",
    "    pag.hotkey('ctrl', 'w')\n",
    "    \n",
    "\n",
    "# Plays the Grumpy Old King game on Neopets\n",
    "def grumpy_old_king():\n",
    "    webbrowser.open('http://www.neopets.com/medieval/grumpyking.phtml')\n",
    "    time.sleep(4)\n",
    "    pag.moveTo(1786,706)\n",
    "    pag.click()\n",
    "    time.sleep(2)\n",
    "    pag.moveTo(721, 664)\n",
    "    time.sleep(2)\n",
    "    pag.click()\n",
    "    \n",
    "    for i in range (0,18):\n",
    "        pag.typewrite(['down', 'down', 'down', 'tab'])\n",
    "    \n",
    "    pag.moveTo(924,860)\n",
    "    pag.click()\n",
    "    time.sleep(2)\n",
    "    pag.hotkey('ctrl', 'w')\n",
    "\n",
    "# Navigates through the Lost Tomb on Neopets\n",
    "def lost_tomb():\n",
    "    webbrowser.open('http://www.neopets.com/worlds/geraptiku/tomb.phtml')\n",
    "    time.sleep(4)\n",
    "    pag.moveTo(1786,706)\n",
    "    pag.click()\n",
    "    time.sleep(2)\n",
    "    pag.moveTo(848, 761)\n",
    "    pag.click()\n",
    "    time.sleep(4)\n",
    "    pag.moveTo(1009,716)\n",
    "    pag.click()\n",
    "    time.sleep(4)\n",
    "    pag.hotkey('ctrl', 'w')\n",
    "    \n",
    "# Uses the Qasalan Expellibox on Neopets. Due to some irregularities, this one clicks the \"Play\" button\n",
    "#    twice.\n",
    "def qasalan_expellibox():\n",
    "    webbrowser.open('http://ncmall.neopets.com/mall/shop.phtml?page=giveaway')\n",
    "    time.sleep(4)\n",
    "    pag.moveTo(1786,706)\n",
    "    pag.click()\n",
    "    time.sleep(2)\n",
    "    pag.moveTo(1127,846)\n",
    "    pag.click()\n",
    "    time.sleep(2)\n",
    "    pag.click()\n",
    "    time.sleep(2)\n",
    "    pag.hotkey('ctrl', 'w')"
   ]
  },
  {
   "cell_type": "markdown",
   "metadata": {},
   "source": [
    "## The One-Clicks\n",
    "This section is made up of dailies that can activated by a single click. The script uses pandas to read in a CSV file, then passes in the position and URL of the page. The function proceeds through, clicking one-by-one. Note that some of the dailies, such as Coltzan's Shrine, can actually be done multiple times a day, following a cooldown period. These have 'time_delay' parameters and will be called after the cooldown period has elapsed."
   ]
  },
  {
   "cell_type": "code",
   "execution_count": 147,
   "metadata": {},
   "outputs": [],
   "source": [
    "# Takes in 2 positional arguments and a URL. Navigates to the URL, clears any overlay, then \n",
    "#    moves the cursor to the set positions and clicks\n",
    "def neopian_one_clicks(x_pos, y_pos, url):\n",
    "    webbrowser.open(url)\n",
    "    time.sleep(4)\n",
    "    \n",
    "    # Moves the cursor and clicks nowhere in particular. This gets rid of any unusual overlays\n",
    "    pag.moveTo(1786,706)\n",
    "    pag.click()\n",
    "    time.sleep(2)\n",
    "    \n",
    "    pag.moveTo(x_pos,y_pos)\n",
    "    pag.click()\n",
    "    time.sleep(4)\n",
    "    pag.hotkey('ctrl', 'w')\n",
    "    "
   ]
  },
  {
   "cell_type": "markdown",
   "metadata": {},
   "source": [
    "# The main function"
   ]
  },
  {
   "cell_type": "code",
   "execution_count": 133,
   "metadata": {
    "collapsed": true
   },
   "outputs": [],
   "source": [
    "# The main function calls the odd clicks first, then loads in the actions csv. It passes the rows\n",
    "# of the actions csv into the neopian_one_clicks function\n",
    "def main():\n",
    "    wise_old_king()\n",
    "    grumpy_old_king()\n",
    "    qasalan_expellibox()\n",
    "    lost_tomb()\n",
    "    \n",
    "    # Read in the actions csv \n",
    "    one_clicks = pd.read_csv('one_clicks.csv')\n",
    "    one_clicks['timestamp'] = -1\n",
    "    \n",
    "    # For every row, pass in the thing\n",
    "    for i in range(0, len(one_clicks)):\n",
    "        \n",
    "        actions = neopian_one_clicks.iloc[i]\n",
    "        neopian_one_clicks(actions['X_Position'], actions['Y_Position'], actions['URL '])\n",
    "        \n",
    "        # If the Time_delay variable isn't negative 1, then change the timestamp variable\n",
    "        if actions['Time_Delay'] > 0:\n",
    "            neopian_one_clicks.iloc[i]['timestamp'] = time()\n",
    "    \n",
    "    # For all the actions that can be done multiple times a day, check every 15 minutes\n",
    "    #     to see if the timer has reset yet\n",
    "    repeatables = one_clicks[one_clicks['Time_Delay'] > 0]\n",
    "    while (True):\n",
    "        time.sleep(900)\n",
    "        for i in range (0, len(one_clicks)):\n",
    "            maybe =  one_clicks.iloc[i]\n",
    "            \n",
    "            # If the time difference in seconds is larger than the reset time in seconds\n",
    "            #    then do the daily again\n",
    "            if ((time() - maybe['timestamp']) > (maybe['Time_Delay'] * 3600)):\n",
    "                neopian_one_clicks(maybe['X_Position'], maybe['Y_Position'], maybe['URL '])\n",
    "                one_clicks.iloc[i]['timestamp'] = time()\n",
    "                \n",
    "                "
   ]
  },
  {
   "cell_type": "code",
   "execution_count": null,
   "metadata": {
    "collapsed": true
   },
   "outputs": [],
   "source": [
    "main()"
   ]
  },
  {
   "cell_type": "code",
   "execution_count": 116,
   "metadata": {},
   "outputs": [],
   "source": [
    "df = pd.read_csv('one_clicks.csv')\n"
   ]
  },
  {
   "cell_type": "code",
   "execution_count": 146,
   "metadata": {},
   "outputs": [],
   "source": [
    "heal_springs = df[df['Name']=='Healing Springs'].iloc[0]\n",
    "neopian_one_clicks(heal_springs['X_Position'], heal_springs['Y_Position'], \n",
    "                  heal_springs['URL '])\n"
   ]
  },
  {
   "cell_type": "code",
   "execution_count": null,
   "metadata": {
    "collapsed": true
   },
   "outputs": [],
   "source": []
  }
 ],
 "metadata": {
  "kernelspec": {
   "display_name": "Python 3",
   "language": "python",
   "name": "python3"
  },
  "language_info": {
   "codemirror_mode": {
    "name": "ipython",
    "version": 3
   },
   "file_extension": ".py",
   "mimetype": "text/x-python",
   "name": "python",
   "nbconvert_exporter": "python",
   "pygments_lexer": "ipython3",
   "version": "3.6.3"
  }
 },
 "nbformat": 4,
 "nbformat_minor": 2
}
