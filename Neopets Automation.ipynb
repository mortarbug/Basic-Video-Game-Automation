{
 "cells": [
  {
   "cell_type": "markdown",
   "metadata": {},
   "source": [
    "# Neopets Automation\n",
    "Patrick Vo\n",
    "\n",
    "Program that automatically collects neopets freebies and whatnot. I chose to use PyAutoGui because there is little to no chance that GUI automation like this will be detected. "
   ]
  },
  {
   "cell_type": "code",
   "execution_count": 1,
   "metadata": {
    "collapsed": true
   },
   "outputs": [],
   "source": [
    "#Import the necessary libraries. Set the pyautogui failsafe to be true\n",
    "import pyautogui as pag\n",
    "pag.FAILSAFE = True\n",
    "pag.PAUSE = 0.10\n",
    "\n",
    "import pandas as pd\n",
    "import time\n",
    "import webbrowser\n",
    "\n",
    "# Page loading parameter. Can be changed to accomodate slower connections\n",
    "pg = 8\n"
   ]
  },
  {
   "cell_type": "markdown",
   "metadata": {},
   "source": [
    "## The Special Ones\n",
    "This section is comprised of Neopets dailies that require multiple clicks or other unusual instructions. Because of this, they can't be put into a single function."
   ]
  },
  {
   "cell_type": "code",
   "execution_count": 2,
   "metadata": {
    "collapsed": true
   },
   "outputs": [],
   "source": [
    "# Plays the Wise Old King game on Neopets. Uses tabs to navigate\n",
    "def wise_old_king():\n",
    "    webbrowser.open('http://www.neopets.com/medieval/wiseking.phtml')\n",
    "    time.sleep(pg)\n",
    "    \n",
    "    # Clears out any events that might pop up on the page\n",
    "    pag.moveTo(1786,706)\n",
    "    pag.click()\n",
    "    time.sleep(2)\n",
    "    \n",
    "    #Move the cursor into position\n",
    "    pag.moveTo(778, 604)\n",
    "    pag.click()\n",
    "    \n",
    "    for i in range (0,7):\n",
    "        pag.typewrite(['down', 'down', 'down', 'tab'])\n",
    "    \n",
    "    pag.moveTo(1027,675)\n",
    "    pag.click()\n",
    "    time.sleep(4)\n",
    "    \n",
    "\n",
    "# Plays the Grumpy Old King game on Neopets\n",
    "def grumpy_old_king():\n",
    "    webbrowser.open('http://www.neopets.com/medieval/grumpyking.phtml')\n",
    "    time.sleep(pg)\n",
    "    pag.moveTo(1786,706)\n",
    "    pag.click()\n",
    "    time.sleep(2)\n",
    "    pag.moveTo(721, 664)\n",
    "    time.sleep(2)\n",
    "    pag.click()\n",
    "    \n",
    "    for i in range (0,18):\n",
    "        pag.typewrite(['down', 'down', 'down', 'tab'])\n",
    "    \n",
    "    pag.moveTo(924,860)\n",
    "    pag.click()\n",
    "    time.sleep(4)\n",
    "\n",
    "# Navigates through the Lost Tomb on Neopets\n",
    "def lost_tomb():\n",
    "    webbrowser.open('http://www.neopets.com/worlds/geraptiku/tomb.phtml')\n",
    "    time.sleep(pg)\n",
    "    pag.moveTo(1786,706)\n",
    "    pag.click()\n",
    "    time.sleep(2)\n",
    "    pag.moveTo(848, 761)\n",
    "    pag.click()\n",
    "    time.sleep(4)\n",
    "    pag.moveTo(1009,716)\n",
    "    pag.click()\n",
    "    time.sleep(4)\n",
    "    \n",
    "# Uses the Qasalan Expellibox on Neopets. Due to some irregularities, this one clicks the \"Play\" button\n",
    "#    twice.\n",
    "def qasalan_expellibox():\n",
    "    webbrowser.open('http://ncmall.neopets.com/mall/shop.phtml?page=giveaway')\n",
    "    time.sleep(pg)\n",
    "    pag.moveTo(1786,706)\n",
    "    pag.click()\n",
    "    time.sleep(2)\n",
    "    pag.moveTo(1127,846)\n",
    "    pag.click()\n",
    "    time.sleep(2)\n",
    "    pag.click()\n",
    "    time.sleep(6)\n",
    "    \n",
    "def snowager():\n",
    "    webbrowser.open('http://www.neopets.com/winter/snowager.phtml')\n",
    "    time.sleep(pg)\n",
    "    pag.moveTo(916, 810)\n",
    "    pag.click()\n",
    "    time.sleep(6)\n",
    "    "
   ]
  },
  {
   "cell_type": "markdown",
   "metadata": {},
   "source": [
    "## The One-Clicks\n",
    "This section is made up of dailies that can activated by a single click. The script uses pandas to read in a CSV file, then passes in the position and URL of the page. The function proceeds through, clicking one-by-one. Note that some of the dailies, such as Coltzan's Shrine, can actually be done multiple times a day, following a cooldown period. These have 'time_delay' parameters and will be called after the cooldown period has elapsed."
   ]
  },
  {
   "cell_type": "code",
   "execution_count": 3,
   "metadata": {
    "collapsed": true
   },
   "outputs": [],
   "source": [
    "# Takes in 2 positional arguments and a URL. Navigates to the URL, clears any overlay, then \n",
    "#    moves the cursor to the set positions and clicks\n",
    "def neopian_one_clicks(x_pos, y_pos, url):\n",
    "    webbrowser.open(url)\n",
    "    time.sleep(pg)\n",
    "    \n",
    "    # Moves the cursor and clicks nowhere in particular. This gets rid of any unusual overlays\n",
    "    pag.moveTo(1786,706)\n",
    "    pag.click()\n",
    "    time.sleep(2)\n",
    "    \n",
    "    pag.moveTo(x_pos,y_pos)\n",
    "    pag.click()\n",
    "    time.sleep(4)\n",
    "    "
   ]
  },
  {
   "cell_type": "markdown",
   "metadata": {},
   "source": [
    "# The main function"
   ]
  },
  {
   "cell_type": "code",
   "execution_count": 4,
   "metadata": {
    "collapsed": true
   },
   "outputs": [],
   "source": [
    "# The main function calls the odd clicks first, then loads in the actions csv. It passes the rows\n",
    "# of the actions csv into the neopian_one_clicks function\n",
    "def main():\n",
    "    wise_old_king()\n",
    "    grumpy_old_king()\n",
    "    qasalan_expellibox()\n",
    "    lost_tomb()\n",
    "    \n",
    "    # Read in the actions csv \n",
    "    one_clicks = pd.read_csv('one_clicks.csv')\n",
    "    one_clicks['timestamp'] = -1\n",
    "    \n",
    "    # For every row, pass in the thing\n",
    "    for i in range(0, len(one_clicks)):\n",
    "        \n",
    "        actions = one_clicks.iloc[i]\n",
    "        neopian_one_clicks(actions['X_Position'], actions['Y_Position'], actions['URL '])\n",
    "        \n",
    "        # If the Time_delay variable isn't negative 1, then change the timestamp variable\n",
    "    \n",
    "    # Open the portfolio page\n",
    "    webbrowser.open('http://www.neopets.com/stockmarket.phtml?type=portfolio')\n",
    "                  "
   ]
  },
  {
   "cell_type": "code",
   "execution_count": 6,
   "metadata": {},
   "outputs": [
    {
     "name": "stderr",
     "output_type": "stream",
     "text": [
      "C:\\Users\\Mortarbug\\Anaconda3\\lib\\site-packages\\ipykernel_launcher.py:21: SettingWithCopyWarning: \n",
      "A value is trying to be set on a copy of a slice from a DataFrame\n",
      "\n",
      "See the caveats in the documentation: http://pandas.pydata.org/pandas-docs/stable/indexing.html#indexing-view-versus-copy\n",
      "C:\\Users\\Mortarbug\\Anaconda3\\lib\\site-packages\\ipykernel_launcher.py:38: SettingWithCopyWarning: \n",
      "A value is trying to be set on a copy of a slice from a DataFrame\n",
      "\n",
      "See the caveats in the documentation: http://pandas.pydata.org/pandas-docs/stable/indexing.html#indexing-view-versus-copy\n"
     ]
    },
    {
     "ename": "FailSafeException",
     "evalue": "PyAutoGUI fail-safe triggered from mouse moving to upper-left corner. To disable this fail-safe, set pyautogui.FAILSAFE to False.",
     "output_type": "error",
     "traceback": [
      "\u001b[1;31m---------------------------------------------------------------------------\u001b[0m",
      "\u001b[1;31mFailSafeException\u001b[0m                         Traceback (most recent call last)",
      "\u001b[1;32m<ipython-input-6-58ca95c5b364>\u001b[0m in \u001b[0;36m<module>\u001b[1;34m()\u001b[0m\n\u001b[1;32m----> 1\u001b[1;33m \u001b[0mmain\u001b[0m\u001b[1;33m(\u001b[0m\u001b[1;33m)\u001b[0m\u001b[1;33m\u001b[0m\u001b[0m\n\u001b[0m",
      "\u001b[1;32m<ipython-input-4-e5a57db8a182>\u001b[0m in \u001b[0;36mmain\u001b[1;34m()\u001b[0m\n\u001b[0;32m     35\u001b[0m             \u001b[1;31m#    then do the daily again\u001b[0m\u001b[1;33m\u001b[0m\u001b[1;33m\u001b[0m\u001b[0m\n\u001b[0;32m     36\u001b[0m             \u001b[1;32mif\u001b[0m \u001b[1;33m(\u001b[0m\u001b[1;33m(\u001b[0m\u001b[0mtime\u001b[0m\u001b[1;33m.\u001b[0m\u001b[0mtime\u001b[0m\u001b[1;33m(\u001b[0m\u001b[1;33m)\u001b[0m \u001b[1;33m-\u001b[0m \u001b[0mmaybe\u001b[0m\u001b[1;33m[\u001b[0m\u001b[1;34m'timestamp'\u001b[0m\u001b[1;33m]\u001b[0m\u001b[1;33m)\u001b[0m \u001b[1;33m>\u001b[0m \u001b[1;33m(\u001b[0m\u001b[0mmaybe\u001b[0m\u001b[1;33m[\u001b[0m\u001b[1;34m'Time_Delay'\u001b[0m\u001b[1;33m]\u001b[0m \u001b[1;33m*\u001b[0m \u001b[1;36m3600\u001b[0m\u001b[1;33m)\u001b[0m\u001b[1;33m)\u001b[0m\u001b[1;33m:\u001b[0m\u001b[1;33m\u001b[0m\u001b[0m\n\u001b[1;32m---> 37\u001b[1;33m                 \u001b[0mneopian_one_clicks\u001b[0m\u001b[1;33m(\u001b[0m\u001b[0mmaybe\u001b[0m\u001b[1;33m[\u001b[0m\u001b[1;34m'X_Position'\u001b[0m\u001b[1;33m]\u001b[0m\u001b[1;33m,\u001b[0m \u001b[0mmaybe\u001b[0m\u001b[1;33m[\u001b[0m\u001b[1;34m'Y_Position'\u001b[0m\u001b[1;33m]\u001b[0m\u001b[1;33m,\u001b[0m \u001b[0mmaybe\u001b[0m\u001b[1;33m[\u001b[0m\u001b[1;34m'URL '\u001b[0m\u001b[1;33m]\u001b[0m\u001b[1;33m)\u001b[0m\u001b[1;33m\u001b[0m\u001b[0m\n\u001b[0m\u001b[0;32m     38\u001b[0m                 \u001b[0mmaybe\u001b[0m\u001b[1;33m[\u001b[0m\u001b[1;34m'timestamp'\u001b[0m\u001b[1;33m]\u001b[0m \u001b[1;33m=\u001b[0m \u001b[0mtime\u001b[0m\u001b[1;33m.\u001b[0m\u001b[0mtime\u001b[0m\u001b[1;33m(\u001b[0m\u001b[1;33m)\u001b[0m\u001b[1;33m\u001b[0m\u001b[0m\n\u001b[0;32m     39\u001b[0m \u001b[1;33m\u001b[0m\u001b[0m\n",
      "\u001b[1;32m<ipython-input-3-3986eda6f29d>\u001b[0m in \u001b[0;36mneopian_one_clicks\u001b[1;34m(x_pos, y_pos, url)\u001b[0m\n\u001b[0;32m     10\u001b[0m     \u001b[0mtime\u001b[0m\u001b[1;33m.\u001b[0m\u001b[0msleep\u001b[0m\u001b[1;33m(\u001b[0m\u001b[1;36m2\u001b[0m\u001b[1;33m)\u001b[0m\u001b[1;33m\u001b[0m\u001b[0m\n\u001b[0;32m     11\u001b[0m \u001b[1;33m\u001b[0m\u001b[0m\n\u001b[1;32m---> 12\u001b[1;33m     \u001b[0mpag\u001b[0m\u001b[1;33m.\u001b[0m\u001b[0mmoveTo\u001b[0m\u001b[1;33m(\u001b[0m\u001b[0mx_pos\u001b[0m\u001b[1;33m,\u001b[0m\u001b[0my_pos\u001b[0m\u001b[1;33m)\u001b[0m\u001b[1;33m\u001b[0m\u001b[0m\n\u001b[0m\u001b[0;32m     13\u001b[0m     \u001b[0mpag\u001b[0m\u001b[1;33m.\u001b[0m\u001b[0mclick\u001b[0m\u001b[1;33m(\u001b[0m\u001b[1;33m)\u001b[0m\u001b[1;33m\u001b[0m\u001b[0m\n\u001b[0;32m     14\u001b[0m     \u001b[0mtime\u001b[0m\u001b[1;33m.\u001b[0m\u001b[0msleep\u001b[0m\u001b[1;33m(\u001b[0m\u001b[1;36m4\u001b[0m\u001b[1;33m)\u001b[0m\u001b[1;33m\u001b[0m\u001b[0m\n",
      "\u001b[1;32m~\\Anaconda3\\lib\\site-packages\\pyautogui\\__init__.py\u001b[0m in \u001b[0;36mmoveTo\u001b[1;34m(x, y, duration, tween, pause, _pause)\u001b[0m\n\u001b[0;32m    611\u001b[0m     \u001b[0mx\u001b[0m\u001b[1;33m,\u001b[0m \u001b[0my\u001b[0m \u001b[1;33m=\u001b[0m \u001b[0m_unpackXY\u001b[0m\u001b[1;33m(\u001b[0m\u001b[0mx\u001b[0m\u001b[1;33m,\u001b[0m \u001b[0my\u001b[0m\u001b[1;33m)\u001b[0m\u001b[1;33m\u001b[0m\u001b[0m\n\u001b[0;32m    612\u001b[0m \u001b[1;33m\u001b[0m\u001b[0m\n\u001b[1;32m--> 613\u001b[1;33m     \u001b[0m_failSafeCheck\u001b[0m\u001b[1;33m(\u001b[0m\u001b[1;33m)\u001b[0m\u001b[1;33m\u001b[0m\u001b[0m\n\u001b[0m\u001b[0;32m    614\u001b[0m \u001b[1;33m\u001b[0m\u001b[0m\n\u001b[0;32m    615\u001b[0m     \u001b[0m_mouseMoveDrag\u001b[0m\u001b[1;33m(\u001b[0m\u001b[1;34m'move'\u001b[0m\u001b[1;33m,\u001b[0m \u001b[0mx\u001b[0m\u001b[1;33m,\u001b[0m \u001b[0my\u001b[0m\u001b[1;33m,\u001b[0m \u001b[1;36m0\u001b[0m\u001b[1;33m,\u001b[0m \u001b[1;36m0\u001b[0m\u001b[1;33m,\u001b[0m \u001b[0mduration\u001b[0m\u001b[1;33m,\u001b[0m \u001b[0mtween\u001b[0m\u001b[1;33m)\u001b[0m\u001b[1;33m\u001b[0m\u001b[0m\n",
      "\u001b[1;32m~\\Anaconda3\\lib\\site-packages\\pyautogui\\__init__.py\u001b[0m in \u001b[0;36m_failSafeCheck\u001b[1;34m()\u001b[0m\n\u001b[0;32m   1008\u001b[0m \u001b[1;32mdef\u001b[0m \u001b[0m_failSafeCheck\u001b[0m\u001b[1;33m(\u001b[0m\u001b[1;33m)\u001b[0m\u001b[1;33m:\u001b[0m\u001b[1;33m\u001b[0m\u001b[0m\n\u001b[0;32m   1009\u001b[0m     \u001b[1;32mif\u001b[0m \u001b[0mFAILSAFE\u001b[0m \u001b[1;32mand\u001b[0m \u001b[0mposition\u001b[0m\u001b[1;33m(\u001b[0m\u001b[1;33m)\u001b[0m \u001b[1;33m==\u001b[0m \u001b[1;33m(\u001b[0m\u001b[1;36m0\u001b[0m\u001b[1;33m,\u001b[0m \u001b[1;36m0\u001b[0m\u001b[1;33m)\u001b[0m\u001b[1;33m:\u001b[0m\u001b[1;33m\u001b[0m\u001b[0m\n\u001b[1;32m-> 1010\u001b[1;33m         \u001b[1;32mraise\u001b[0m \u001b[0mFailSafeException\u001b[0m\u001b[1;33m(\u001b[0m\u001b[1;34m'PyAutoGUI fail-safe triggered from mouse moving to upper-left corner. To disable this fail-safe, set pyautogui.FAILSAFE to False.'\u001b[0m\u001b[1;33m)\u001b[0m\u001b[1;33m\u001b[0m\u001b[0m\n\u001b[0m\u001b[0;32m   1011\u001b[0m \u001b[1;33m\u001b[0m\u001b[0m\n\u001b[0;32m   1012\u001b[0m \u001b[1;33m\u001b[0m\u001b[0m\n",
      "\u001b[1;31mFailSafeException\u001b[0m: PyAutoGUI fail-safe triggered from mouse moving to upper-left corner. To disable this fail-safe, set pyautogui.FAILSAFE to False."
     ]
    }
   ],
   "source": [
    "main()"
   ]
  },
  {
   "cell_type": "code",
   "execution_count": 9,
   "metadata": {
    "collapsed": true
   },
   "outputs": [],
   "source": [
    "df = pd.read_csv('one_clicks.csv')\n"
   ]
  },
  {
   "cell_type": "code",
   "execution_count": 10,
   "metadata": {
    "collapsed": true
   },
   "outputs": [],
   "source": [
    "heal_springs = df[df['Name']=='Healing Springs'].iloc[0]\n",
    "neopian_one_clicks(heal_springs['X_Position'], heal_springs['Y_Position'], \n",
    "                  heal_springs['URL '])\n"
   ]
  },
  {
   "cell_type": "code",
   "execution_count": null,
   "metadata": {
    "collapsed": true
   },
   "outputs": [],
   "source": [
    "time.sleep(4)\n",
    "pag.position()"
   ]
  },
  {
   "cell_type": "code",
   "execution_count": null,
   "metadata": {
    "collapsed": true
   },
   "outputs": [],
   "source": [
    "snowager()"
   ]
  },
  {
   "cell_type": "code",
   "execution_count": null,
   "metadata": {
    "collapsed": true
   },
   "outputs": [],
   "source": [
    "qasalan_expellibox()"
   ]
  },
  {
   "cell_type": "code",
   "execution_count": 6,
   "metadata": {},
   "outputs": [
    {
     "ename": "TypeError",
     "evalue": "'module' object is not callable",
     "output_type": "error",
     "traceback": [
      "\u001b[1;31m---------------------------------------------------------------------------\u001b[0m",
      "\u001b[1;31mTypeError\u001b[0m                                 Traceback (most recent call last)",
      "\u001b[1;32m<ipython-input-6-e93d56e4ca00>\u001b[0m in \u001b[0;36m<module>\u001b[1;34m()\u001b[0m\n\u001b[1;32m----> 1\u001b[1;33m \u001b[0mtime\u001b[0m\u001b[1;33m(\u001b[0m\u001b[1;33m)\u001b[0m\u001b[1;33m\u001b[0m\u001b[0m\n\u001b[0m",
      "\u001b[1;31mTypeError\u001b[0m: 'module' object is not callable"
     ]
    }
   ],
   "source": [
    "time()"
   ]
  },
  {
   "cell_type": "code",
   "execution_count": null,
   "metadata": {
    "collapsed": true
   },
   "outputs": [],
   "source": []
  }
 ],
 "metadata": {
  "kernelspec": {
   "display_name": "Python 3",
   "language": "python",
   "name": "python3"
  },
  "language_info": {
   "codemirror_mode": {
    "name": "ipython",
    "version": 3
   },
   "file_extension": ".py",
   "mimetype": "text/x-python",
   "name": "python",
   "nbconvert_exporter": "python",
   "pygments_lexer": "ipython3",
   "version": "3.6.3"
  }
 },
 "nbformat": 4,
 "nbformat_minor": 2
}
