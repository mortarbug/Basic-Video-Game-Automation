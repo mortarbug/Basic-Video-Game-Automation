{
 "cells": [
  {
   "cell_type": "markdown",
   "metadata": {},
   "source": [
    "## Age of Mythology Cheat Code Automation\n",
    "I decided recently to visit another of my old favorites--Age of Mythology. "
   ]
  },
  {
   "cell_type": "code",
   "execution_count": 7,
   "metadata": {},
   "outputs": [],
   "source": [
    "\n",
    "# Import the necessary libraries\n",
    "import pyautogui as pag\n",
    "import time as time\n",
    "\n",
    "# Define the function that enters the cheat code\n",
    "def cheat_code_enterer(actual_code):\n",
    "    pag.typewrite(['Enter'])\n",
    "    pag.typewrite(actual_code)\n",
    "    pag.typewrite(['Enter'])\n",
    "\n",
    "if True: \n",
    "    # Gives you time to enter the game\n",
    "    time.sleep(10)\n",
    "    # Enters each cheat code 30 times\n",
    "    for i in range (0,30):\n",
    "        cheat_code_enterer('JUNK FOOD NIGHT')\n",
    "        cheat_code_enterer('TROJAN HORSE FOR SALE')\n",
    "        cheat_code_enterer('ATM OF EREBUS')\n",
    "    "
   ]
  },
  {
   "cell_type": "code",
   "execution_count": 2,
   "metadata": {
    "collapsed": true
   },
   "outputs": [],
   "source": []
  },
  {
   "cell_type": "code",
   "execution_count": null,
   "metadata": {
    "collapsed": true
   },
   "outputs": [],
   "source": []
  }
 ],
 "metadata": {
  "kernelspec": {
   "display_name": "Python 3",
   "language": "python",
   "name": "python3"
  },
  "language_info": {
   "codemirror_mode": {
    "name": "ipython",
    "version": 3
   },
   "file_extension": ".py",
   "mimetype": "text/x-python",
   "name": "python",
   "nbconvert_exporter": "python",
   "pygments_lexer": "ipython3",
   "version": "3.6.3"
  }
 },
 "nbformat": 4,
 "nbformat_minor": 2
}
