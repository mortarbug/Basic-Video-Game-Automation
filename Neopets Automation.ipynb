{
 "cells": [
  {
   "cell_type": "markdown",
   "metadata": {},
   "source": [
    "# Neopets Automation\n",
    "Patrick Vo\n",
    "\n",
    "Program that automatically collects neopets freebies and whatnot"
   ]
  },
  {
   "cell_type": "code",
   "execution_count": 2,
   "metadata": {
    "collapsed": true
   },
   "outputs": [],
   "source": [
    "#Import the necessary libraries\n",
    "import pyautogui as pag\n",
    "pag.FAILSAFE = True\n",
    "pag.PAUSE = 0.10\n",
    "\n",
    "import time\n",
    "import webbrowser"
   ]
  },
  {
   "cell_type": "markdown",
   "metadata": {},
   "source": [
    "## The Multiclicks\n",
    "This section is comprised of Neopets dailies that require multiple clicks"
   ]
  },
  {
   "cell_type": "code",
   "execution_count": 65,
   "metadata": {
    "collapsed": true
   },
   "outputs": [],
   "source": [
    "def wise_old_king():\n",
    "    webbrowser.open('http://www.neopets.com/medieval/wiseking.phtml')\n",
    "    time.sleep(4)\n",
    "    \n",
    "    # Clears out any events that might pop up on the page\n",
    "    pag.moveTo(1786,706)\n",
    "    pag.click()\n",
    "    time.sleep(2)\n",
    "    \n",
    "    #Move the cursor into position\n",
    "    pag.moveTo(778, 604)\n",
    "    pag.click()\n",
    "    \n",
    "    for i in range (0,7):\n",
    "        pag.typewrite(['down', 'down', 'down', 'tab'])\n",
    "    \n",
    "    pag.moveTo(1027,675)\n",
    "    pag.click()\n",
    "    \n",
    "    \n",
    "    \n",
    "def grumpy_old_king():\n",
    "    webbrowser.open('http://www.neopets.com/medieval/grumpyking.phtml')\n",
    "    time.sleep(4)\n",
    "    pag.moveTo(1786,706)\n",
    "    pag.click()\n",
    "    time.sleep(2)\n",
    "    pag.moveTo(721, 664)\n",
    "    pag.click()\n",
    "    \n",
    "    for i in range (0,18):\n",
    "        pag.typewrite(['down', 'down', 'down', 'tab'])\n",
    "    \n",
    "    pag.moveTo(924,860)\n",
    "    pag.click()"
   ]
  },
  {
   "cell_type": "markdown",
   "metadata": {},
   "source": [
    "## The One-Clicks"
   ]
  },
  {
   "cell_type": "code",
   "execution_count": 47,
   "metadata": {},
   "outputs": [],
   "source": [
    "def neopian_one_clicks():\n",
    "    webbrowser.open('http://www.neopets.com/island/tombola.phtml')\n",
    "    time.sleep(4)\n",
    "    pag.moveTo(1786,706)\n",
    "    pag.click()\n",
    "    time.sleep(2)\n",
    "    pag.moveTo(941, 614)\n",
    "    pag.click()\n",
    "    #pag.hotkey('ctrl', 'w')\n"
   ]
  },
  {
   "cell_type": "code",
   "execution_count": 48,
   "metadata": {},
   "outputs": [],
   "source": [
    "neopian_one_clicks()"
   ]
  },
  {
   "cell_type": "code",
   "execution_count": 64,
   "metadata": {},
   "outputs": [
    {
     "data": {
      "text/plain": [
       "(721, 664)"
      ]
     },
     "execution_count": 64,
     "metadata": {},
     "output_type": "execute_result"
    }
   ],
   "source": [
    "time.sleep(4)\n",
    "pag.position()"
   ]
  },
  {
   "cell_type": "code",
   "execution_count": null,
   "metadata": {
    "collapsed": true
   },
   "outputs": [],
   "source": [
    "pag.moveTo()"
   ]
  },
  {
   "cell_type": "code",
   "execution_count": 66,
   "metadata": {
    "collapsed": true
   },
   "outputs": [],
   "source": [
    "grumpy_old_king()"
   ]
  },
  {
   "cell_type": "code",
   "execution_count": null,
   "metadata": {
    "collapsed": true
   },
   "outputs": [],
   "source": []
  }
 ],
 "metadata": {
  "kernelspec": {
   "display_name": "Python 3",
   "language": "python",
   "name": "python3"
  },
  "language_info": {
   "codemirror_mode": {
    "name": "ipython",
    "version": 3
   },
   "file_extension": ".py",
   "mimetype": "text/x-python",
   "name": "python",
   "nbconvert_exporter": "python",
   "pygments_lexer": "ipython3",
   "version": "3.6.3"
  }
 },
 "nbformat": 4,
 "nbformat_minor": 2
}
