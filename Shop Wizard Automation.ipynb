{
 "cells": [
  {
   "cell_type": "markdown",
   "metadata": {},
   "source": [
    "# Shop Wizard Research\n",
    "One of the things I really used to hate was trying to find out what a fair price was on the shop wizard. The Neopets Shop Wizard groups shops by Username--P and C shops, for example, always appear together. If your particular block of users doesn't show up first? Then you just have to refresh until it does. This script opens up multiple Shop Wizard searches, increasing your chances of getting to see the prices of your block.\n",
    "\n",
    "Rather than scraping the web, I built this script to be interactive"
   ]
  },
  {
   "cell_type": "code",
   "execution_count": 3,
   "metadata": {
    "collapsed": true
   },
   "outputs": [],
   "source": [
    "# Import necessary modules\n",
    "import time\n",
    "import pyautogui as pag\n",
    "import webbrowser\n",
    "\n",
    "pag.Failsafe = True\n",
    "pag.pause = 0.25"
   ]
  },
  {
   "cell_type": "code",
   "execution_count": 4,
   "metadata": {
    "collapsed": true
   },
   "outputs": [],
   "source": [
    "# Opens 6 shop wizard windows and searches\n",
    "def searcher(item, repeats = 6):\n",
    "     for i in range(0, repeats):\n",
    "        webbrowser.open('http://www.neopets.com/market.phtml?type=wizard')\n",
    "        time.sleep(5)\n",
    "        pag.moveTo(1102,470, duration = 0.1)\n",
    "        pag.click()\n",
    "        time.sleep(1)\n",
    "        pag.typewrite(item)\n",
    "        time.sleep(0.5)\n",
    "        pag.moveTo(1073,543, duration = 0.1)\n",
    "        pag.click()\n",
    "        pag.moveTo(1073,570, duration = 0.5)\n",
    "        pag.click()\n",
    "        pag.moveTo(955,632, duration = 0.1)\n",
    "        pag.click()\n",
    "        \n",
    "#Closes out opened windows\n",
    "def closer():\n",
    "    time.sleep(2)\n",
    "    pag.moveTo(1535,4)\n",
    "    for i in range(0,7):\n",
    "        pag.hotkey('ctrl', 'w')\n",
    "        time.sleep(0.5)"
   ]
  },
  {
   "cell_type": "code",
   "execution_count": 5,
   "metadata": {},
   "outputs": [
    {
     "name": "stdout",
     "output_type": "stream",
     "text": [
      "Enter the exact phrase that you would like to search, or \"quit\" to escapeSamuel No Eyes\n",
      "Enter the exact phrase that you would like to search, or \"quit\" to escapeGrundo Stix\n",
      "Enter the exact phrase that you would like to search, or \"quit\" to escapeSmooshed Tomato\n",
      "Enter the exact phrase that you would like to search, or \"quit\" to escapeLemon Jelly\n",
      "Enter the exact phrase that you would like to search, or \"quit\" to escapeSuper Strength Healing Potion\n",
      "Enter the exact phrase that you would like to search, or \"quit\" to escapeEliv Thade Chips\n",
      "Enter the exact phrase that you would like to search, or \"quit\" to escapeToy Pirate Sword\n",
      "Enter the exact phrase that you would like to search, or \"quit\" to escapeBrightvale Castle\n",
      "Enter the exact phrase that you would like to search, or \"quit\" to escapeThe Grundo Pirate\n",
      "Enter the exact phrase that you would like to search, or \"quit\" to escapeBushy Grey Eyebrows\n",
      "Enter the exact phrase that you would like to search, or \"quit\" to escapeDrym Shaped Frosted Sugar Cookie\n",
      "Enter the exact phrase that you would like to search, or \"quit\" to escapeHealing Springs Residue\n",
      "Enter the exact phrase that you would like to search, or \"quit\" to escapeMy First Dentures\n",
      "Enter the exact phrase that you would like to search, or \"quit\" to escapeRice Omelette\n",
      "Enter the exact phrase that you would like to search, or \"quit\" to escapequit\n",
      "Type \"yes\" to search for the same item again, or press Enter to continue\n",
      "Type \"yes\" to search for the same item again, or press Enter to continue\n",
      "Type \"yes\" to search for the same item again, or press Enter to continue\n",
      "Type \"yes\" to search for the same item again, or press Enter to continue\n",
      "Type \"yes\" to search for the same item again, or press Enter to continueyes\n",
      "Type \"yes\" to search for the same item again, or press Enter to continue\n",
      "Type \"yes\" to search for the same item again, or press Enter to continue\n",
      "Type \"yes\" to search for the same item again, or press Enter to continue\n",
      "Type \"yes\" to search for the same item again, or press Enter to continue\n",
      "Type \"yes\" to search for the same item again, or press Enter to continueyes\n",
      "Type \"yes\" to search for the same item again, or press Enter to continueyes\n",
      "Type \"yes\" to search for the same item again, or press Enter to continueyes\n",
      "Type \"yes\" to search for the same item again, or press Enter to continue\n",
      "Type \"yes\" to search for the same item again, or press Enter to continue\n",
      "Type \"yes\" to search for the same item again, or press Enter to continue\n",
      "Type \"yes\" to search for the same item again, or press Enter to continue\n",
      "Type \"yes\" to search for the same item again, or press Enter to continue\n",
      "Type \"yes\" to search for the same item again, or press Enter to continue\n"
     ]
    }
   ],
   "source": [
    "# Create a list of items, to which additional items will be added by the user\n",
    "item_list = []\n",
    "item_searched = 'c'\n",
    "# If the user doesn't say quit\n",
    "while (item_searched != 'quit'):\n",
    "    item_searched = input('Enter the exact phrase that you would like to search, or \"quit\" to escape')\n",
    "    item_list.append(item_searched)\n",
    "\n",
    "# Exclude the quit term from the item list\n",
    "item_list = item_list[0:len(item_list)-1]\n",
    "\n",
    "# For each item in the list, open 10 new windows and search for the item\n",
    "for item in item_list:    \n",
    "    searcher(item, repeats = 10)\n",
    "    \n",
    "    # Ask the user whether they want to search again or whether they want to coninue on to \n",
    "    #    the next search\n",
    "    next_search = input('Type \"yes\" to search for the same item again, or press Enter to continue')\n",
    "    while (next_search.lower() == 'yes'):\n",
    "        searcher(item, repeats = 10)\n",
    "        next_search = input('Type \"yes\" to search for the same item again, or press Enter to continue')\n",
    "    "
   ]
  },
  {
   "cell_type": "code",
   "execution_count": 8,
   "metadata": {},
   "outputs": [
    {
     "data": {
      "text/plain": [
       "(963, 632)"
      ]
     },
     "execution_count": 8,
     "metadata": {},
     "output_type": "execute_result"
    }
   ],
   "source": [
    "time.sleep(4)\n",
    "pag.position()"
   ]
  },
  {
   "cell_type": "code",
   "execution_count": null,
   "metadata": {
    "collapsed": true
   },
   "outputs": [],
   "source": [
    "list"
   ]
  }
 ],
 "metadata": {
  "kernelspec": {
   "display_name": "Python 3",
   "language": "python",
   "name": "python3"
  },
  "language_info": {
   "codemirror_mode": {
    "name": "ipython",
    "version": 3
   },
   "file_extension": ".py",
   "mimetype": "text/x-python",
   "name": "python",
   "nbconvert_exporter": "python",
   "pygments_lexer": "ipython3",
   "version": "3.6.3"
  }
 },
 "nbformat": 4,
 "nbformat_minor": 2
}
